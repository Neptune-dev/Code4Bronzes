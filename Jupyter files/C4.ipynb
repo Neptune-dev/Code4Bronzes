{
 "cells": [
  {
   "cell_type": "markdown",
   "metadata": {},
   "source": [
    "# LE CODE\n",
    "\n",
    "# C4\n",
    "___"
   ]
  },
  {
   "cell_type": "markdown",
   "metadata": {},
   "source": [
    "## Input et Opérations\n",
    "\n",
    "Vous savez maintenant déclarer et surtout definir une variable. Il s'agit à présent de les manipuler.\n",
    "\n",
    "Commençons par les entier et flottants, pour lesquels les opérateurs mathématiques que vous connaissez fonctionnes :"
   ]
  },
  {
   "cell_type": "code",
   "execution_count": 10,
   "metadata": {},
   "outputs": [
    {
     "name": "stdout",
     "output_type": "stream",
     "text": [
      "5\n",
      "1\n",
      "6\n",
      "1.5\n",
      "le reste de la division de 3 par 2 :  1\n"
     ]
    }
   ],
   "source": [
    "a = 3\n",
    "b = 2\n",
    "\n",
    "uneAddition = a + b\n",
    "uneSoustraction = a - b\n",
    "uneMultiplication = a * b\n",
    "uneDivision = a / b\n",
    "uneDivisionEuclidienne = a%b\n",
    "\n",
    "print(uneAddition)\n",
    "print(uneSoustraction)\n",
    "print(uneMultiplication)\n",
    "print(uneDivision)\n",
    "print(\"le reste de la division de 3 par 2 : \", uneDivisionEuclidienne)\n"
   ]
  },
  {
   "cell_type": "markdown",
   "metadata": {},
   "source": [
    "Notez que la multiplication se fait avec le symbole \"*\" et la division avec le symbole \"/\". Autre nouveauté : il est possible de mettre plusieurs éléments les uns à la suite des autres et séparés par une virgule dans un print, comme une chaine de caractères et une variable par exemple.\n",
    "\n",
    "Pour effectuer une puissance, on utilise \"**\" :"
   ]
  },
  {
   "cell_type": "code",
   "execution_count": 6,
   "metadata": {},
   "outputs": [
    {
     "name": "stdout",
     "output_type": "stream",
     "text": [
      "9\n"
     ]
    }
   ],
   "source": [
    "a = 3\n",
    "b = a**2\n",
    "print(b)"
   ]
  },
  {
   "cell_type": "markdown",
   "metadata": {},
   "source": [
    "Pour des opération plus complexes, comme par exemple la racine carré, on utilise la librairie  *math* directement incluse dans python. La racine carré correspond à la fonction *sqrt* de cette librairie. Je détaillerai les librairies dans un autre chapitre, pas d'inquiétude."
   ]
  },
  {
   "cell_type": "code",
   "execution_count": 1,
   "metadata": {},
   "outputs": [
    {
     "name": "stdout",
     "output_type": "stream",
     "text": [
      "2.0\n"
     ]
    }
   ],
   "source": [
    "from math import sqrt   # Cette ligne doit se trouver tout en haut de votre code\n",
    "\n",
    "a = 4\n",
    "b = sqrt(a)\n",
    "print(b)"
   ]
  },
  {
   "cell_type": "markdown",
   "metadata": {},
   "source": [
    "Il est également possible de faire des opération sur la variable elle même."
   ]
  },
  {
   "cell_type": "code",
   "execution_count": 8,
   "metadata": {},
   "outputs": [
    {
     "name": "stdout",
     "output_type": "stream",
     "text": [
      "7\n",
      "10\n",
      "15\n"
     ]
    }
   ],
   "source": [
    "a = 2\n",
    "a = a + 5\n",
    "print(a)\n",
    "\n",
    "b = 4\n",
    "b += 6\n",
    "print(b)\n",
    "\n",
    "c = 20\n",
    "c -= 5\n",
    "print(c)"
   ]
  },
  {
   "cell_type": "markdown",
   "metadata": {},
   "source": [
    "Remarquez qu'il existe plusieurs syntaxes pour l'incrémentation. De ce fait, *\"a = a + 1\"* équivaut à *\"a += 1\"*. De même pour la soustraction.\n",
    "\n",
    "Du côté des chaines de caractère, l'addition permet de les ajouter les unes à la suite des autres :"
   ]
  },
  {
   "cell_type": "code",
   "execution_count": 11,
   "metadata": {},
   "outputs": [
    {
     "name": "stdout",
     "output_type": "stream",
     "text": [
      "Je mange une pomme\n"
     ]
    }
   ],
   "source": [
    "a = \"Je mange \"\n",
    "b = \"une pomme\"\n",
    "\n",
    "c = a + b\n",
    "print(c)"
   ]
  },
  {
   "cell_type": "markdown",
   "metadata": {},
   "source": [
    "Faire des opérations c'est bien, mais il faut que l'utilisateur puisse rentrer des valeur sans devoir aller dans le code à chaque fois.\n",
    "\n",
    "Pour se faire, on utilise la fonction *\"input\"* :"
   ]
  },
  {
   "cell_type": "code",
   "execution_count": 1,
   "metadata": {},
   "outputs": [
    {
     "name": "stdout",
     "output_type": "stream",
     "text": [
      "félix\n"
     ]
    }
   ],
   "source": [
    "a = input(\"Quel est votre prénom ? \")\n",
    "print(a)"
   ]
  },
  {
   "cell_type": "markdown",
   "metadata": {},
   "source": [
    "Vous ne pouvez pas le voir ici, mais le programme m'a bel-et-bien demandé mon prénom. je vous invite à essayer.\n",
    "\n",
    "La fonction input retourne cependant uniquement des chaînes de caractère. Pour entrer des valeurs numériques, pensez à en modifier le type :"
   ]
  },
  {
   "cell_type": "code",
   "execution_count": null,
   "metadata": {},
   "outputs": [],
   "source": [
    "a = input(\"Quel est votre âge ? \")\n",
    "a = int(a)\n",
    "\n",
    "# ou\n",
    "\n",
    "b = int(input(\"Quel est votre âge ? \"))"
   ]
  }
 ],
 "metadata": {
  "kernelspec": {
   "display_name": "Python 3",
   "language": "python",
   "name": "python3"
  },
  "language_info": {
   "codemirror_mode": {
    "name": "ipython",
    "version": 3
   },
   "file_extension": ".py",
   "mimetype": "text/x-python",
   "name": "python",
   "nbconvert_exporter": "python",
   "pygments_lexer": "ipython3",
   "version": "3.10.7"
  },
  "orig_nbformat": 4
 },
 "nbformat": 4,
 "nbformat_minor": 2
}
