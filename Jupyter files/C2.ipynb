{
 "cells": [
  {
   "cell_type": "markdown",
   "metadata": {},
   "source": [
    "# LE CODE\n",
    "\n",
    "# C2\n",
    "___"
   ]
  },
  {
   "cell_type": "markdown",
   "metadata": {},
   "source": [
    "## Let's Get Started\n",
    "\n",
    "Ça y est !! On va enfin commencer ce qui est cool ! On va commencer par installer tout le necessaire puis écrire un premier programme.\n",
    "\n",
    "Prérequis :\n",
    "\n",
    "- un ordinateur (avec un système d'exploitation installé, de préférence windows ou MacOS).\n",
    "\n",
    "- une connexion internet pour la permière installation\n",
    "\n",
    "- C'est tout !!\n",
    "\n",
    "On va donc sans plus tarder installer *Python*, et *IDLE*. *IDLE*, c'est une IDE qui vient avec l'installation wizard de python. Une IDE, c'est un logiciel qui fait office d'éditeur de texte pour coder. C'est notamment grâce à l'IDE que les lignes de codes sont colorées pour mettre en évidence certains éléments.\n",
    "\n",
    "Pour vous éviter les galère de bash ou de powershell, on va installer python comme on installerait Photoshop ou Word : avec un ficher d'installation automatique *\"wizard\"*. Si python vous plait et qu'après vous désirer aller plus loin, je vous ferai un document sur un autre language, et sur l'utilisation de bash et autres workflows. Mais revenons à l'installation de Python...\n",
    "\n",
    "Pour ça, rendez-vous sur cette page : https://www.python.org/downloads/\n",
    "\n",
    "Il vous suffit de télécharger la dernière version, de lancer le fichier téléchargé et de suivre les instructions d'installation ; je vous laisse faire, vous avez tous déjà installé quelque-chose sur votre ordi.\n",
    "\n",
    "___"
   ]
  },
  {
   "cell_type": "markdown",
   "metadata": {},
   "source": [
    "Une fois cela fait, je vous invite à ouvrir *IDLE* en le cherchant dans le menu de votre système d'exploitation.\n",
    "\n",
    "Voici la fenêtre qui devrait s'ouvrir :\n",
    "\n",
    "<img src=\"./src/idle1.jpg\" />\n",
    "\n",
    "Cette fenêtre est tout simplement le terminal (le *\"shell\"*) python de *IDLE*. Pour les curieux, sachez que python peux s'ouvrir dans le shell de bash, cmd ou powershell en tapant la commande *py*. Vous pouvez y entrer des commandes python et vous aurez directement le retour du shell.\n",
    "\n",
    "Mais faisons les choses bien au lieu de se précipiter. Je vous invite donc à créer un nouveau fichier en cliquant sur *File* puis *New File*.\n",
    "\n",
    "S'ouvre alors une nouvelle fenêtre :\n",
    "\n",
    "<img src=\"./src/idle2.jpg\" />\n",
    "\n",
    "C'est ici que l'on va écrire notre code !!\n",
    "\n",
    "Je vous invite à y écrire :\n",
    "\n",
    "<img src=\"./src/hw.jpg\" />\n",
    "\n",
    "A enregistrer le fichier avec l'extension python *\".py\"* (moi j'ai appelé le fichier *\"mon programme de fou.py\"*).\n",
    "\n",
    "Puis à cliquer sur *Run* et *Run Module*.\n",
    "\n",
    "Voilà le résultat :\n",
    "\n",
    "<img src=\"./src/hw_out.jpg\" />\n",
    "\n",
    "Et le tour est joué !!\n",
    "\n",
    "Les prochaines fois, je présenterai le code et son résultat de la manière suivante :"
   ]
  },
  {
   "cell_type": "code",
   "execution_count": 2,
   "metadata": {},
   "outputs": [
    {
     "name": "stdout",
     "output_type": "stream",
     "text": [
      "Hello Word\n"
     ]
    },
    {
     "data": {
      "text/plain": [
       "11"
      ]
     },
     "execution_count": 2,
     "metadata": {},
     "output_type": "execute_result"
    }
   ],
   "source": [
    "# Mon premier programme !!\n",
    "print (\"Hello Word\")\n",
    "5+6"
   ]
  },
  {
   "cell_type": "markdown",
   "metadata": {},
   "source": [
    "Je vous laisser remarquer que le shell nous indique quelle version de Python il utilise, sur quel systeme, les commandes qui peuvent être utiles à l'utlisateur et le repertoire courant et/ou le ficher ouvert."
   ]
  }
 ],
 "metadata": {
  "kernelspec": {
   "display_name": "Python 3",
   "language": "python",
   "name": "python3"
  },
  "language_info": {
   "codemirror_mode": {
    "name": "ipython",
    "version": 3
   },
   "file_extension": ".py",
   "mimetype": "text/x-python",
   "name": "python",
   "nbconvert_exporter": "python",
   "pygments_lexer": "ipython3",
   "version": "3.10.7"
  },
  "orig_nbformat": 4
 },
 "nbformat": 4,
 "nbformat_minor": 2
}
