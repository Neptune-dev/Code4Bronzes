{
 "cells": [
  {
   "cell_type": "markdown",
   "metadata": {},
   "source": [
    "# LE CODE\n",
    "\n",
    "# C5\n",
    "___"
   ]
  },
  {
   "cell_type": "markdown",
   "metadata": {},
   "source": [
    "## Tests et Boucles\n",
    "\n",
    "Il s'agit maintenant de faire quelques algorithmes et un peu de logique, afin de donner du sens à tout ce que vous avez appris. Accrochez-vous, ce chapitre risque d'être assez dense.\n",
    "\n",
    "Imaginons le scénario suivant :\n",
    "\n",
    "On possède un stock de 5 pommes. Si l'utilisateur a faim, alors il mange une pomme, sinon on lui demande de nouveau s'il a faim. S'il ne reste plus de pommes, alors l'utilisateur est prevenu et le programme s'arrête.\n",
    "\n",
    "Décorticons ces tâches et construisons ensemble ce programme. Le but ici est d'apprendre à utiliser les boucles et les tests.\n",
    "\n",
    "___"
   ]
  },
  {
   "cell_type": "markdown",
   "metadata": {},
   "source": [
    "Bien évidemment, ce serait trop simple de vous donner une solution tout de suite (dsl). Je vais donc vous présenter les outils dont vous pouvez avoir besoin, puis je vous montrerai diverses solutions possibles.\n",
    "\n",
    "Commençons par le test. Le test consiste à executer du code si une condition est remplie. Voici la syntaxe :"
   ]
  },
  {
   "cell_type": "code",
   "execution_count": 4,
   "metadata": {},
   "outputs": [
    {
     "name": "stdout",
     "output_type": "stream",
     "text": [
      "a = 5\n"
     ]
    }
   ],
   "source": [
    "a = 5\n",
    "if(a == 5):\n",
    "    print(\"a = 5\")"
   ]
  },
  {
   "cell_type": "markdown",
   "metadata": {},
   "source": [
    "Explications :\n",
    "\n",
    "- Le test est introduit par le mot clef *if*, traduis littéralement de l'anglais *\"si\"*.\n",
    "\n",
    "- La condition se trouve entres parenthèses juste après le mot clef.\n",
    "\n",
    "- N'oubliez pas de mettre les deux points \":\" à la fin de la ligne, sinon le code ne marchera pas !!\n",
    "\n",
    "- Le code à executer sous condition doit être **indenté**. Dans la plupart des languages, ce code est mis entre crochets mais ce n'est pas le cas de python. L'indentation permet à python de savoir que ce que vous écrivez est enfant du test. Ce sera aussi le cas des boucles et des fonctions que je détaillerai plus tard. Pour indenter, utiliser la touche *tab* ou mettez 4 espaces.\n",
    "\n",
    "- Si la condition n'est pas remplie, le code indenté n'est pas exécuté et le programme suit son cours.\n",
    "\n",
    "Si l'on doit exécuter du code uniquement en cas d'échec du test, on utilise le mot clef *else*, anglais de *\"sinon\"*, suivi de deux points \":\" comme qui suit."
   ]
  },
  {
   "cell_type": "code",
   "execution_count": 5,
   "metadata": {},
   "outputs": [
    {
     "name": "stdout",
     "output_type": "stream",
     "text": [
      "a != 5\n"
     ]
    }
   ],
   "source": [
    "a = 3\n",
    "if (a == 5):\n",
    "    print(\"a = 5\")\n",
    "else:\n",
    "    print(\"a != 5\")     # ce morceau de code aussi est indenté"
   ]
  },
  {
   "cell_type": "markdown",
   "metadata": {},
   "source": [
    "On peut également établir un test à plusieurs conditions, ou une seule conditions parmis plusieurs avec les mots clefs *and* et *or* :"
   ]
  },
  {
   "cell_type": "code",
   "execution_count": 7,
   "metadata": {},
   "outputs": [
    {
     "name": "stdout",
     "output_type": "stream",
     "text": [
      "a = 5 et a != 2\n"
     ]
    }
   ],
   "source": [
    "a = 5\n",
    "if (a == 5 and a != 2):\n",
    "    print(\"a = 5 et a != 2\")\n",
    "elif (a == 8 or a == 2):\n",
    "    print(\"a = 8 ou a = 2\")\n",
    "else:\n",
    "    print(\"aucun test n'a fonctionné\")"
   ]
  },
  {
   "cell_type": "markdown",
   "metadata": {},
   "source": [
    "Comme montré ci-dessus, on peut par la contraction de *else* et *if* former un test échelonné. Parmis tous ces échelons, seul un va être exécuté.\n",
    "\n",
    "Voici un tableau montrant la syntaxe pour les conditions mathématiques possibles, et deux exemples :\n",
    "\n",
    "| si [en maths] | si [en python] | pour a = 2 ; b = 3 | pour a = b = 5 |\n",
    "| :-: | :-: | :-: | :-: |\n",
    "| $a = b$ | a == b | False | True |\n",
    "| $a \\neq b$ | a != b | True | False |\n",
    "| $a < b$ | a < b | True | False |\n",
    "| $a > b$ | a > b | False | False |\n",
    "| $a \\le b$ | a <= b | True | True |\n",
    "| $a \\ge b$ | a >= b | False | True |\n"
   ]
  }
 ],
 "metadata": {
  "kernelspec": {
   "display_name": "Python 3",
   "language": "python",
   "name": "python3"
  },
  "language_info": {
   "codemirror_mode": {
    "name": "ipython",
    "version": 3
   },
   "file_extension": ".py",
   "mimetype": "text/x-python",
   "name": "python",
   "nbconvert_exporter": "python",
   "pygments_lexer": "ipython3",
   "version": "3.10.7"
  },
  "orig_nbformat": 4
 },
 "nbformat": 4,
 "nbformat_minor": 2
}
