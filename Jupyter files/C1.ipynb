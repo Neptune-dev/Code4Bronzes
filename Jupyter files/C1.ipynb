{
 "cells": [
  {
   "cell_type": "markdown",
   "metadata": {},
   "source": [
    "# LE CODE\n",
    "\n",
    "# C1\n",
    "\n",
    "## Par Félix *\"Neptune\"* Ladislas\n",
    "\n",
    "et à destination de mes amis.\n",
    "___"
   ]
  },
  {
   "cell_type": "markdown",
   "metadata": {},
   "source": [
    "## Avant propos\n",
    "\n",
    "J'adore coder. Et vous me connaissez, c'est naturellement que je suis ravi de pouvoir, à travers ce document, et grâce à Python, partager cet art. Gardez tout de même à l'esprit que je n'ai encore aucun diplôme de code (le *PIX* ne compte pas mdrr), et que je reste un étudiant amateur d'informatique parfois peu rigoureux... Néanmoins n'hésitez surtout pas à me poser des questions, j'éclairerai les zones d'ombre autant que possible.\n",
    "\n",
    "Les premiers chapitres sont tout simplement de la syntaxe et des bases du fonctionnement de python. Cependant, ces fiches ne sont pas exhaustives, d'une part part parce qu'il y a déjà beaucoup de contenu, et d'autre part parce que certaines features possèdent des doublons ou des alternatives qu'il n'est pas nécessaire de connaitre pour débuter. Tout est néanmoins accessible dans la documentation.\n",
    "\n",
    "Après la syntaxe viendront les chapitres dédiés aux exemples approfondis, exercices et études de cas. Je complèterai également avec des features et concepts un peu plus avancés.\n",
    "\n",
    "___"
   ]
  },
  {
   "cell_type": "markdown",
   "metadata": {},
   "source": [
    "## Un peu d'informatique\n",
    "\n",
    "Alors je sais que c'est pas la partie la plus amusante, mais avant de commencer à écrire des lignes de code, j'aimerais vous expliquez rapidement quelques bases d'informatique, puis accessoirement vous présenter les outils que l'on va utiliser.\n",
    "\n",
    "Pour reprendre depuis le début, vous n'êtes sûrement pas sans savoir que dans les orinateurs circulent de l'électricité, sous forme d'impulsions. Ce sont ces impulsions qui font physiquement toutes les tâches de l'ordinateur. Je vous épargne le cours de logique combinatoire détaillant ce processus (pour l'instant en tous cas). Retenez simplement que dans un câble, l'électricité peut soit passer, soit ne pas passer. On attribut respectivement à ces deux cas les valeurs de 1 et 0. Les combinaisons de zéros et de uns forment une base de numération modulo-2 qu'on appelle le binaire.\n",
    "\n",
    "Encore une fois, je vous épargne les cours avancés de calcul formel, mais voici un tableau qui montre comment sont écrits quelques nombres en binaire.\n",
    "\n",
    "| nombre en base 10 | nombre en base 2 |\n",
    "| :-: | :-: |\n",
    "| 0 | 0 |\n",
    "| 1 | 1 |\n",
    "| 2 | 10 |\n",
    "| 3 | 11 |\n",
    "| 4 | 100 |\n",
    "| 5 | 101 |\n",
    "| 6 | 110 |\n",
    "| 7 | 111 |\n",
    "| 8 | 1000 |\n",
    "| 9 | 1001 |\n",
    "| 10 | 1010 |\n",
    "| 4862 | 1001011111110 |\n",
    "\n",
    "Si vous souhaitez en savoir d'avantage sur le binaire, et sur le calcul formel de manière générale, n'hésitez pas à me demander ou à faire vos propres recherches.\n",
    "\n",
    "Voilà donc comment les ordinateurs sont programmés !! -> avec du code binaire.\n",
    "\n",
    "Vous conviendrez qu'il n'est pas très pratique de construire un logiciel avec une simple suite de 0 et de 1... C'est donc ici qu'interviennent les languages de programmation. Sans parler de programmation papier, d'abord très simples, les languages de très bas niveau (comme l'assembleur) avaient comme seul objectif d'instaurer une langue commune entre le developpeur et la machine.\n",
    "\n",
    "Le developpeur écrit des lignes de code qui sont ensuite converties en binaire par un **compileur**.\n",
    "\n",
    "Pour pas faire trop durer cette partie, je finirai pas vous dire qu'au fur et à mesure du temps, les languages se sont complexifiés et les compileur se sont ajoutés les uns sur les autres.\n",
    "\n",
    "Aujourd'hui, le language le plus répendu pour dialoguer avec une machine est le **bash**. Bash se trouve tout simplement dans l'invite de commande de votre ordinateur (sauf sur windows où *powerShell et cmd* sont des couches supplémentaires). Ces terminaux permettent de faire ce que vous voulez de votre ordinateur et les systèmes d'exploitations tel que *Windows, MacOS,* certains *Linux*, ne font que rajouter une jolie présentation à tout ça.\n",
    "\n",
    "Le languages de bas niveau qui s'est ensuite imposé pour sa facilité face à ses concurrents est le **C**. On ne fera pas de C ici, mais on pourrait. C'est un language très polyvalent, et beaucoup d'autres langages en sont inspirés. Sachez qu'aujourd'hui le C est largement utilisé pour de l'architecture logicielle, lorsque ses concurrents d'autant, comme *Unix, Ada, Pascal* sont soit abandonnés, soit utilisés pour de la programmation de plus bas niveau, comme de la construction de systèmes d'exploitations.\n",
    "\n",
    "C'est alors qu'on fait un premier point important sur python *(oui !! enfin !!)*.\n",
    "\n",
    "C, comme beaucoup d'autres languages, a besoin d'un *compileur* pour être lu par la machine. Ce compiler prend le code et crée à partir de celui-ci un fichier exécutable par l'ordinateur. C'est irréversible : si vous n'avez pas garder votre code de côté, le compileur ne pourra pas vous le donner à partir d'un exécutable.\n",
    "\n",
    "Cependant, d'autres languages n'utilisent pas de compileur. Pour ce faire, l'utilisateur doit avoir au préalable installé sur sa machine un exécutable, que l'on appelle interprète, (ou *\"machine virtuelle\"* dans le cas de *java*). Cet exécutable est chargé de lire et traduire en temps réel le code. C'est le cas de *python, javaScript, http, html, php, SQL, lua* et beaucoup, beaucoup d'autres. C'est également comme ça que fonctionnent tous les terminaux dont *bash, cmd, powerShell, etc*.\n",
    "\n",
    "Chaque méthodes a ses avantages et inconvénients, qui sont variables selon les languages, et que je détaillerai plus tard si nécessaire.\n",
    "\n",
    "Bref... Pour que l'ordi comprenne notre code python, il va falloir installer l'interprète."
   ]
  }
 ],
 "metadata": {
  "language_info": {
   "name": "python"
  },
  "orig_nbformat": 4
 },
 "nbformat": 4,
 "nbformat_minor": 2
}
