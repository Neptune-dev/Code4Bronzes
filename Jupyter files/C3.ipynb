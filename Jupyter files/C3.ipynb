{
 "cells": [
  {
   "cell_type": "markdown",
   "metadata": {},
   "source": [
    "# LE CODE\n",
    "\n",
    "# C3\n",
    "___"
   ]
  },
  {
   "cell_type": "markdown",
   "metadata": {},
   "source": [
    "## Variables\n",
    "\n",
    "Vous avez maintenant installé Python, et vous savez pourquoi vous avez dû l'installer. Vous avez même écrit votre premier programme !! Mais fini de rigoler, maintenant il faut coder quelque-chose d'intéressant.\n",
    "\n",
    "Vous pouvez avant tout et seulement si vous le désirez changer d'IDE, *IDLE* étant un peu terne et peu acceuillant. Pour les débutants, je recommande sans hésiter l'incontournable *Notepad++*, une IDE qui sert pour tout un tas de languages y compris python. Pour des développeurs un peu plus aguéris, *Visual Studio Code* est aussi une possibilité, réputée pour le développement web, mais pas que !! *VSCode* possède un bon moteur d'auto-complétion et un terminal, sans compter bien sûr un tas d'extensions de la communauté. Je déconseille l'auto-complétion pour l'apprentissage de vos deux premier languages quels qu'ils soient (je pense qu'il faut bien construire des automatismes avant d'utiliser ces outils).\n",
    "\n",
    "Il va donc falloir apprendre deux chose :\n",
    "\n",
    "- l'algorithmique : ça c'est le plus dur... Il s'agit, à chaque problème, de déconstruire la solution pour la reconstuire sur son IDE. \n",
    "\n",
    "- la syntaxe : propre à chaque language, et sans autre option que d'être apprise par coeur pour éviter de passer 90% de votre temps dans la documentation. Rassurez-vous, python est simple et laxiste sur sa syntaxe.\n",
    "\n",
    "C'est parti !!\n",
    "\n",
    "La programmation est une histoire de manipulation de valeurs. Ces valeur sont stockées dans des **variables**."
   ]
  },
  {
   "cell_type": "code",
   "execution_count": 1,
   "metadata": {},
   "outputs": [
    {
     "name": "stdout",
     "output_type": "stream",
     "text": [
      "5\n"
     ]
    }
   ],
   "source": [
    "maVariable = 5\n",
    "print(maVariable)"
   ]
  },
  {
   "cell_type": "markdown",
   "metadata": {},
   "source": [
    "Ici, la variable *\"maVariable\"* prend la valeur de 5, on dit qu'on **définit** la variable *\"maVariable\"*. Puis on utilise cette valeur dans la ligne suivante, la fonction *\"print\"*.\n",
    "\n",
    "La fonction *print* sert à afficher dans le shell ce que vous souhaitez. Je détaillerai plus tard ce qu'est une fonction, mais vous pouvez déjà deviner leur fonctionnement. Dans le cas de *print*, il vous suffit de mettre entre parenthèses ce que vous souhaitez afficher (variable ou directement la valeur dite *\"en dur\"*)."
   ]
  },
  {
   "cell_type": "code",
   "execution_count": 2,
   "metadata": {},
   "outputs": [
    {
     "name": "stdout",
     "output_type": "stream",
     "text": [
      "12\n",
      "Valeur de ma variable : 12\n"
     ]
    }
   ],
   "source": [
    "print(12)\n",
    "maVariable = 12\n",
    "print(\"Valeur de ma variable :\", maVariable)"
   ]
  },
  {
   "cell_type": "markdown",
   "metadata": {},
   "source": [
    "Ce qui peut être stocké dans une variable peut être de nature différente, que l'on appelle le **type** :\n",
    "\n",
    "- un entier : 5 -> simplement tous les entiers relatifs, positifs ou négatifs. ($\\mathbb{Z}$)\n",
    "\n",
    "- un flottant : 5,8 -> un flottant est une représentation formelle d'un nombre décimal ($\\mathbb{D}$). Les rationnels (les fractions, l'ensemble $\\mathbb{Q}$) n'existent pas en python, ils sont convertis en flottant par valeur approchée.\n",
    "\n",
    "- un booléen : vrai ou faux -> c'est une valeur binaire utilisée principalement pour les tests et boucles.\n",
    "\n",
    "- un caractère : s -> n'importe quel caractère, y compris les chiffres\n",
    "\n",
    "- une chaine de caractères : shrek -> l'assemblages de caractères. En python, les caractères et chaines de caractère forment un seul et même type. Ce n'est pas le cas de tous les languages, dont certains ne possèdent même pas le type chaine de caractère nativement (notre bon vieux C par exemple).\n",
    "\n",
    "| Nom | Type en python | Exemple | notation en python |\n",
    "| :-: | :-------: | :-----: | :-------: |\n",
    "| entier | int | 5 | 5 |\n",
    "| flottant | float | 5,8 | 5.8 |\n",
    "| booléen | bool | vrai / faux | True / False *ou* 1 / 0|\n",
    "| caractère | str | s / 5 | \"s\" / \"5\" |\n",
    "| chaine de caractère | str | shrek a 5 iPhones | \"shrek a 5 iPhones\" |"
   ]
  },
  {
   "cell_type": "code",
   "execution_count": 3,
   "metadata": {},
   "outputs": [],
   "source": [
    "# Exemple de variables :\n",
    "monEntier = 5\n",
    "monFlottant = 5.8\n",
    "monBooleen = True\n",
    "monCar = \"s\"\n",
    "maChaine = \"shrek a 5 iPhone\"\n",
    "MA_CONSTANTE = 1.80"
   ]
  },
  {
   "cell_type": "markdown",
   "metadata": {},
   "source": [
    "Vous pouvez ici constater plusieurs chose :\n",
    "\n",
    "- une ligne commencée par *#* est une ligne de commentaire. Elle sert à commenter, approter des détail à votre code pour en faciliter la lecture."
   ]
  },
  {
   "cell_type": "markdown",
   "metadata": {},
   "source": [
    "- pour nommer les choses, on utilise des conventions de nommage, et ce quelque soit le language. Cela facilite la lecture et permet d'éviter quelques erreurs. En l'occurence, les variables sont en convention dite *\"camelCase\"*, elles commencent par une minuscule, et chaque mot dans le nom porte une Majuscule. Les constante sont écrites en majuscules et sont en *\"snake_case\"*, avec des tirets \"_\" entre chaque mot. Les constantes sont des variables qui ne sont pas destinées à changer de valeur. Dans certains languages, une constante est un objet à part entière (*\"const\"* en *C, JS* et beaucoup d'autres ; *\"final\"* en *Java*). En python, c'est à vous de faire attention à ne pas changer la valeur de vos constantes.\n",
    "\n",
    "Ces conventions de nommage ne sont cependant pas toujours les mêmes selon les entreprises, les languages, les professeurs, etc..."
   ]
  },
  {
   "cell_type": "markdown",
   "metadata": {},
   "source": [
    "- python n'est pas un language typé, c'est-à-dire que le type n'est pas indiqué lors de la déclaration de la variable. Cela signifie aussi qu'une variable peut changer de type, comme dans l'exemple ci-dessous."
   ]
  },
  {
   "cell_type": "code",
   "execution_count": 4,
   "metadata": {},
   "outputs": [
    {
     "name": "stdout",
     "output_type": "stream",
     "text": [
      "5\n",
      "tiami le kimono\n"
     ]
    }
   ],
   "source": [
    "maVariable = 5\n",
    "print(maVariable)\n",
    "maVariable = \"tiami le kimono\"\n",
    "print(maVariable)"
   ]
  },
  {
   "cell_type": "markdown",
   "metadata": {},
   "source": [
    "Il est possible, est utile dans les codes complexes, de noter en python le type des variable ceci :"
   ]
  },
  {
   "cell_type": "code",
   "execution_count": 5,
   "metadata": {},
   "outputs": [],
   "source": [
    "monEntier:int = 5\n",
    "monFlottant:float = 5.8\n",
    "monBooleen:bool = True\n",
    "monCar:str = \"s\"\n",
    "maChaine:str = \"shrek a 5 iPhone\"\n",
    "MA_CONSTANTE:float = 1.80"
   ]
  },
  {
   "cell_type": "markdown",
   "metadata": {},
   "source": [
    "De cette manière, il est également possible de déclarer une variable sans lui attribuer de valeur."
   ]
  },
  {
   "cell_type": "code",
   "execution_count": 6,
   "metadata": {},
   "outputs": [
    {
     "name": "stdout",
     "output_type": "stream",
     "text": [
      "5\n"
     ]
    }
   ],
   "source": [
    "laVariable:int\n",
    "laVariable = 5\n",
    "print(laVariable)"
   ]
  },
  {
   "cell_type": "markdown",
   "metadata": {},
   "source": [
    "Attention cependant, une variable déclarée sans valeur est inutilisable par python."
   ]
  },
  {
   "cell_type": "code",
   "execution_count": 7,
   "metadata": {},
   "outputs": [
    {
     "ename": "NameError",
     "evalue": "name 'uneVariableVide' is not defined",
     "output_type": "error",
     "traceback": [
      "\u001b[1;31m---------------------------------------------------------------------------\u001b[0m",
      "\u001b[1;31mNameError\u001b[0m                                 Traceback (most recent call last)",
      "\u001b[1;32mc:\\Users\\felix\\Desktop\\pyJE\\Jupyter files\\C3.ipynb Cell 17\u001b[0m line \u001b[0;36m2\n\u001b[0;32m      <a href='vscode-notebook-cell:/c%3A/Users/felix/Desktop/pyJE/Jupyter%20files/C3.ipynb#X22sZmlsZQ%3D%3D?line=0'>1</a>\u001b[0m uneVariableVide:\u001b[39mfloat\u001b[39m\n\u001b[1;32m----> <a href='vscode-notebook-cell:/c%3A/Users/felix/Desktop/pyJE/Jupyter%20files/C3.ipynb#X22sZmlsZQ%3D%3D?line=1'>2</a>\u001b[0m \u001b[39mprint\u001b[39m(uneVariableVide)\n",
      "\u001b[1;31mNameError\u001b[0m: name 'uneVariableVide' is not defined"
     ]
    }
   ],
   "source": [
    "uneVariableVide:float\n",
    "print(uneVariableVide)"
   ]
  },
  {
   "cell_type": "markdown",
   "metadata": {},
   "source": [
    "La console renvoie un message d'erreur qui nous en apprend plus sur la nature de l'erreur : la variable en question est déclarée mais pas définie.\n",
    "\n",
    "Pour finir sur le typage, sachez que noter le type de la variable en python ne bloque pas la variable sur le type en question. C'est simplement une façon pour l'auteur de faire comprendre à quel type cette variable est destinée, mais ce type peut changer."
   ]
  },
  {
   "cell_type": "code",
   "execution_count": null,
   "metadata": {},
   "outputs": [
    {
     "name": "stdout",
     "output_type": "stream",
     "text": [
      "8\n",
      "aucun problème pour passer à un string\n"
     ]
    }
   ],
   "source": [
    "issou:int = 8\n",
    "print(issou)\n",
    "issou = \"aucun problème pour passer à un string\"\n",
    "print(issou)"
   ]
  },
  {
   "cell_type": "markdown",
   "metadata": {},
   "source": [
    "Une valeur qui est est notée sans être associer à une variable est dite *\"notée en dur*\", et ce quelque soit son type."
   ]
  },
  {
   "cell_type": "code",
   "execution_count": 1,
   "metadata": {},
   "outputs": [
    {
     "name": "stdout",
     "output_type": "stream",
     "text": [
      "16\n",
      "test\n"
     ]
    }
   ],
   "source": [
    "print(16)        # l'entier 16 est noté en dur\n",
    "print(\"test\")   # la chaîne de caractères \"test\" est notée en dur"
   ]
  },
  {
   "cell_type": "markdown",
   "metadata": {},
   "source": [
    "Pour passer d'un type à un autre, on utilise les fonctions *\"float\", \"int\", \"bool\" et \"str\"* :"
   ]
  },
  {
   "cell_type": "code",
   "execution_count": 4,
   "metadata": {},
   "outputs": [
    {
     "name": "stdout",
     "output_type": "stream",
     "text": [
      "str 1\n",
      "1.5\n",
      "3\n",
      "False\n"
     ]
    }
   ],
   "source": [
    "a = str(1)\n",
    "b = float(\"1.5\")\n",
    "c = int(\"3\")\n",
    "d = bool(0)\n",
    "\n",
    "print(\"str \" + a)\n",
    "print(b)\n",
    "print(c)\n",
    "print(d)"
   ]
  },
  {
   "cell_type": "markdown",
   "metadata": {},
   "source": [
    "Pour finir ce chapitre, sachez qu'on reparlera des chaînes de caractère au moment de parler des tableaux et listes."
   ]
  }
 ],
 "metadata": {
  "kernelspec": {
   "display_name": "Python 3",
   "language": "python",
   "name": "python3"
  },
  "language_info": {
   "codemirror_mode": {
    "name": "ipython",
    "version": 3
   },
   "file_extension": ".py",
   "mimetype": "text/x-python",
   "name": "python",
   "nbconvert_exporter": "python",
   "pygments_lexer": "ipython3",
   "version": "3.10.7"
  },
  "orig_nbformat": 4
 },
 "nbformat": 4,
 "nbformat_minor": 2
}
