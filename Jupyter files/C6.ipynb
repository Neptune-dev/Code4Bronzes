{
 "cells": [
  {
   "cell_type": "markdown",
   "metadata": {},
   "source": [
    "# LE CODE\n",
    "\n",
    "# C6\n",
    "___"
   ]
  },
  {
   "cell_type": "markdown",
   "metadata": {},
   "source": [
    "## Procédures et Fonctions\n",
    "\n",
    "C'est là que les choses sérieuses commencent.\n",
    "\n",
    "Python, comme beaucoup d'autres, est un language procédural. Cela signifie qu'on divise académiquement le code en deux grandes parties :\n",
    "\n",
    "- Les procédures et fonctions\n",
    "\n",
    "- Le programme principal\n",
    "\n",
    "Les procédures sont des morceaux de code, des tâches, que l'on note une seule fois dans le code. On peut ensuite les appeler par leur nom dans le programme principal pour qu'elles s'executent, et ça autant de fois qu'on le souhaite sans avoir à renoter leur code.\n",
    "\n",
    "Une fonction est une procédure particulière qui, après s'être executée, retourne au programme principal une valeur de sortie.\n",
    "\n",
    "En python, procédures comme fonctions se définissent par le mot clef *def*. Le nom est souvent en camelCase dans le cas de python. Sachez que dans beaucoup d'autres languages ce n'est pas le cas ; c'est pourquoi même en python, les devs aiment souvent mettre des majuscules à chaque mot de la fonction ou procédure.\n",
    "\n",
    "Sachez également qu'on appelle les procédure des fonctions par abus de language, comme python ne les différencie pas par la syntaxe. A partir de maintenant, je parlerai donc de fonction même quand aucune valeur n'est retournée."
   ]
  },
  {
   "cell_type": "code",
   "execution_count": 10,
   "metadata": {},
   "outputs": [
    {
     "name": "stdout",
     "output_type": "stream",
     "text": [
      "Ma procédure s'execute\n",
      "18\n",
      "32\n"
     ]
    }
   ],
   "source": [
    "# Fonctions\n",
    "\n",
    "def maProcedure():\n",
    "    print(\"Ma procédure s'execute\")\n",
    "\n",
    "def maFonction(x):\n",
    "    f = 2 * (x**2)\n",
    "    return(f)\n",
    "\n",
    "\n",
    "# Programme principal\n",
    "\n",
    "maProcedure()\n",
    "\n",
    "a = maFonction(3)\n",
    "print(a)\n",
    "\n",
    "print(maFonction(4))"
   ]
  },
  {
   "cell_type": "markdown",
   "metadata": {},
   "source": [
    "J'ai pas mal à dire sur ce morceau de code :\n",
    "\n",
    "- La syntaxe est importante !!  N'oubliez pas de mettre des parenthèses après le nom de votre fonction, sans quoi ça ne marchera pas.\n",
    "\n",
    "- N'oubliez pas les deux points *\":\"* après les parenthèses.\n",
    "\n",
    "- Le code de la fonction doit êre **indenté**. Dans la plupart des languages, ce code est mis entre crochets mais ce n'est pas le cas de python. L'indentation permet à python de savoir que ce que vous écrivez est enfant de la fonction en question. Pour indenter, utiliser la touche *tab* ou mettez 4 espaces.\n",
    "\n",
    "- Une fonction peut prendre des paramètres. Par exemple, pour représenter la fonction mathématique $f(x)=2x^2$, maFonction prend une valeur x qu'on appelle paramètre et qui se place dans les parenthèses de la fonction. S'il y a plusieurs paramètres, ils sont séparés par des virgules. Les paramètres fonctionnent comme des variables classique, mais ne peuvent évoluer dans le programme principal. Plusieurs fonctions et le programme principal peuvent donc avoir un paramètre au nom identique, ce ne sera pas pour autant la même variable.\n",
    "\n",
    "- Pour retourner une valeur à la fin d'une fonction, on utilise le mot clef *return* suivi de la valeur de retour entre parenthèses. Cette valeur peut être un variable ou une valeur notée en dur.\n",
    "\n",
    "- Pour faire appel à une fonction dans le programme principal, il suffit d'écrire son nom suivi de parenthèses contenant ou nom la valeurs des paraèmtres. Même s'il n'y a pas de paramètres, vous devez écrire ses parenthèses.\n",
    "\n",
    "- Une valeur de retour peut directement être stockée dans une variable de la manière suivante :"
   ]
  },
  {
   "cell_type": "code",
   "execution_count": 11,
   "metadata": {},
   "outputs": [],
   "source": [
    "b = maFonction(6)"
   ]
  },
  {
   "cell_type": "markdown",
   "metadata": {},
   "source": [
    "- La fonction peut être appelée par une autre fonction, comme la fonction *print* par exemple, ou une de vos propre fonction."
   ]
  },
  {
   "cell_type": "code",
   "execution_count": 12,
   "metadata": {},
   "outputs": [
    {
     "name": "stdout",
     "output_type": "stream",
     "text": [
      "3\n",
      "6\n"
     ]
    }
   ],
   "source": [
    "def addition(a, b):\n",
    "    c = a + b\n",
    "    return(c)\n",
    "\n",
    "def additionTriple(a, b, c):\n",
    "    d = addition(a, b) + c\n",
    "    return(d)\n",
    "\n",
    "print(addition(1,2))\n",
    "print(additionTriple(1,2,3))"
   ]
  },
  {
   "cell_type": "markdown",
   "metadata": {},
   "source": [
    "- Sachez qu'un fonction peut s'appeler elle même. On l'appelle alors fonction récursive. On étudiera ce cas plus tard.\n",
    "\n",
    "Certaines fonctions simple sont directement intégrées à python. C'est le cas des fonctions *print*, *input*, *str*, *int*, *float* par exemple. D'autres ne le sont pas directement, mais sont déjà écrites dans des librairies, aussi appelées packages, faites par les devs de python et la communauté. Ces librairies doivent être installées sur la machine. Pour ce faire, allez dans l'invite de commande de celle-ci (ex: *cmd*,* bash*, *powershell*) et tapez la commande suivante :\n",
    "\n",
    "> py -m pip install maLibrairie\n",
    "\n",
    "ou\n",
    "\n",
    "> python3 -m pip install maLibrairie\n",
    "\n",
    "Certaines librairies sont déjà dans l'installation de python. \n",
    "\n",
    "Pour utiliser leurs fonctions, il suffit de les importer au début du script :"
   ]
  },
  {
   "cell_type": "code",
   "execution_count": 13,
   "metadata": {},
   "outputs": [],
   "source": [
    "import math\n",
    "\n",
    "a = math.sqrt(4)"
   ]
  },
  {
   "cell_type": "markdown",
   "metadata": {},
   "source": [
    "Ici, pour utiliser une fonction du module *math*, il faut écrire *\"math.laFonction\"*. Pour éviter cet inconvénient, et pour économiser de la mémoire à l'execution du script, on peut importer que les fonctions qui nous intéressent :"
   ]
  },
  {
   "cell_type": "code",
   "execution_count": 14,
   "metadata": {},
   "outputs": [],
   "source": [
    "from math import sqrt\n",
    "\n",
    "a = sqrt(4)"
   ]
  },
  {
   "cell_type": "markdown",
   "metadata": {},
   "source": [
    "On peut également renommer localement la librairie ou la fonction :"
   ]
  },
  {
   "cell_type": "code",
   "execution_count": 15,
   "metadata": {},
   "outputs": [],
   "source": [
    "import math as M\n",
    "\n",
    "a = M.sqrt(4)"
   ]
  },
  {
   "cell_type": "code",
   "execution_count": 16,
   "metadata": {},
   "outputs": [],
   "source": [
    "from math import sqrt as Racine\n",
    "\n",
    "a = Racine(4)"
   ]
  },
  {
   "cell_type": "markdown",
   "metadata": {},
   "source": [
    "Pour importer toutes les fonctions sans devoir indiquer le nom de la librairie devant, on utilise \"*\" :"
   ]
  },
  {
   "cell_type": "code",
   "execution_count": 17,
   "metadata": {},
   "outputs": [],
   "source": [
    "from math import *"
   ]
  },
  {
   "cell_type": "markdown",
   "metadata": {},
   "source": [
    "Pour connaître les fonctions d'une libaririe, il faut se référer à sa documentation trouvable sur internet."
   ]
  },
  {
   "cell_type": "markdown",
   "metadata": {},
   "source": [
    "Vous savez maintenant créer et utiliser des fonctions !!"
   ]
  }
 ],
 "metadata": {
  "kernelspec": {
   "display_name": "Python 3",
   "language": "python",
   "name": "python3"
  },
  "language_info": {
   "codemirror_mode": {
    "name": "ipython",
    "version": 3
   },
   "file_extension": ".py",
   "mimetype": "text/x-python",
   "name": "python",
   "nbconvert_exporter": "python",
   "pygments_lexer": "ipython3",
   "version": "3.10.7"
  },
  "orig_nbformat": 4
 },
 "nbformat": 4,
 "nbformat_minor": 2
}
